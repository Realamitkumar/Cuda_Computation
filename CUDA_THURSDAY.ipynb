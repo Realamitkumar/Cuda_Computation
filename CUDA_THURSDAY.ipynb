{
  "nbformat": 4,
  "nbformat_minor": 0,
  "metadata": {
    "colab": {
      "name": "CUDA_THURSDAY",
      "provenance": [],
      "collapsed_sections": []
    },
    "kernelspec": {
      "name": "python3",
      "display_name": "Python 3"
    },
    "language_info": {
      "name": "python"
    },
    "accelerator": "GPU"
  },
  "cells": [
    {
      "cell_type": "code",
      "execution_count": 4,
      "metadata": {
        "colab": {
          "base_uri": "https://localhost:8080/"
        },
        "id": "1B6m8xjLqhEG",
        "outputId": "61e46097-5230-427e-c9be-68f8feac9efa"
      },
      "outputs": [
        {
          "output_type": "stream",
          "name": "stdout",
          "text": [
            "/bin/bash: conda: command not found\n",
            "Collecting cuda-python\n",
            "  Downloading cuda_python-11.6.0-cp37-cp37m-manylinux_2_17_x86_64.manylinux2014_x86_64.whl (15.4 MB)\n",
            "\u001b[K     |████████████████████████████████| 15.4 MB 10.8 MB/s \n",
            "\u001b[?25hRequirement already satisfied: cython in /usr/local/lib/python3.7/dist-packages (from cuda-python) (0.29.28)\n",
            "Installing collected packages: cuda-python\n",
            "Successfully installed cuda-python-11.6.0\n"
          ]
        }
      ],
      "source": [
        "!conda install cudatoolkit\n",
        "!pip install cuda-python"
      ]
    },
    {
      "cell_type": "code",
      "source": [
        "!pip install numba\n",
        "!find /- iname 'libdevice'\n",
        "!find /- iname 'libnvvm.so'"
      ],
      "metadata": {
        "colab": {
          "base_uri": "https://localhost:8080/"
        },
        "id": "GHgnygfsq9xH",
        "outputId": "699fb4eb-a1f1-4f87-fcda-a44ca2a7a959"
      },
      "execution_count": 5,
      "outputs": [
        {
          "output_type": "stream",
          "name": "stdout",
          "text": [
            "Requirement already satisfied: numba in /usr/local/lib/python3.7/dist-packages (0.51.2)\n",
            "Requirement already satisfied: llvmlite<0.35,>=0.34.0.dev0 in /usr/local/lib/python3.7/dist-packages (from numba) (0.34.0)\n",
            "Requirement already satisfied: numpy>=1.15 in /usr/local/lib/python3.7/dist-packages (from numba) (1.21.5)\n",
            "Requirement already satisfied: setuptools in /usr/local/lib/python3.7/dist-packages (from numba) (57.4.0)\n",
            "find: ‘/-’: No such file or directory\n",
            "find: ‘iname’: No such file or directory\n",
            "find: ‘libdevice’: No such file or directory\n",
            "find: ‘/-’: No such file or directory\n",
            "find: ‘iname’: No such file or directory\n",
            "find: ‘libnvvm.so’: No such file or directory\n"
          ]
        }
      ]
    },
    {
      "cell_type": "code",
      "source": [
        "#install libraries\n",
        "%matplotlib inline\n",
        "import matplotlib.pyplot as plt\n",
        "import numpy as np\n",
        "import math\n",
        "from numba import jit,njit,vectorize,cuda,uint8,f8,uint32\n",
        "from pylab import imshow, show\n",
        "from timeit import default_timer as timer"
      ],
      "metadata": {
        "id": "hMtYEwVyrS_f"
      },
      "execution_count": 8,
      "outputs": []
    },
    {
      "cell_type": "markdown",
      "source": [
        "# Cuda Vectorize"
      ],
      "metadata": {
        "id": "5ckVyP7ErsFR"
      }
    },
    {
      "cell_type": "code",
      "source": [
        "from numba import (cuda, vectorize)\n",
        "import pandas as pd\n",
        "import numpy as np\n",
        "from sklearn.preprocessing import MinMaxScaler\n",
        "from sklearn.cluster import KMeans\n",
        "\n",
        "from functools import wraps\n",
        "from time import time"
      ],
      "metadata": {
        "id": "H3bdYxqGr-E3"
      },
      "execution_count": 11,
      "outputs": []
    },
    {
      "cell_type": "code",
      "source": [
        "da=pd.read_csv('aug_train.csv')\n",
        "da.head(5)"
      ],
      "metadata": {
        "colab": {
          "base_uri": "https://localhost:8080/",
          "height": 312
        },
        "id": "0yNoOURDssz_",
        "outputId": "86ff6849-0135-4dd1-bc91-81763f7c0c60"
      },
      "execution_count": 40,
      "outputs": [
        {
          "output_type": "execute_result",
          "data": {
            "text/html": [
              "\n",
              "  <div id=\"df-0c308363-84c3-4570-bea8-d7d2b5c982a2\">\n",
              "    <div class=\"colab-df-container\">\n",
              "      <div>\n",
              "<style scoped>\n",
              "    .dataframe tbody tr th:only-of-type {\n",
              "        vertical-align: middle;\n",
              "    }\n",
              "\n",
              "    .dataframe tbody tr th {\n",
              "        vertical-align: top;\n",
              "    }\n",
              "\n",
              "    .dataframe thead th {\n",
              "        text-align: right;\n",
              "    }\n",
              "</style>\n",
              "<table border=\"1\" class=\"dataframe\">\n",
              "  <thead>\n",
              "    <tr style=\"text-align: right;\">\n",
              "      <th></th>\n",
              "      <th>enrollee_id</th>\n",
              "      <th>city</th>\n",
              "      <th>city_development_index</th>\n",
              "      <th>gender</th>\n",
              "      <th>relevent_experience</th>\n",
              "      <th>enrolled_university</th>\n",
              "      <th>education_level</th>\n",
              "      <th>major_discipline</th>\n",
              "      <th>experience</th>\n",
              "      <th>company_size</th>\n",
              "      <th>company_type</th>\n",
              "      <th>last_new_job</th>\n",
              "      <th>training_hours</th>\n",
              "      <th>target</th>\n",
              "    </tr>\n",
              "  </thead>\n",
              "  <tbody>\n",
              "    <tr>\n",
              "      <th>0</th>\n",
              "      <td>8949</td>\n",
              "      <td>city_103</td>\n",
              "      <td>0.920</td>\n",
              "      <td>Male</td>\n",
              "      <td>Has relevent experience</td>\n",
              "      <td>no_enrollment</td>\n",
              "      <td>Graduate</td>\n",
              "      <td>STEM</td>\n",
              "      <td>&gt;20</td>\n",
              "      <td>NaN</td>\n",
              "      <td>NaN</td>\n",
              "      <td>1</td>\n",
              "      <td>36</td>\n",
              "      <td>1.0</td>\n",
              "    </tr>\n",
              "    <tr>\n",
              "      <th>1</th>\n",
              "      <td>29725</td>\n",
              "      <td>city_40</td>\n",
              "      <td>0.776</td>\n",
              "      <td>Male</td>\n",
              "      <td>No relevent experience</td>\n",
              "      <td>no_enrollment</td>\n",
              "      <td>Graduate</td>\n",
              "      <td>STEM</td>\n",
              "      <td>15</td>\n",
              "      <td>50-99</td>\n",
              "      <td>Pvt Ltd</td>\n",
              "      <td>&gt;4</td>\n",
              "      <td>47</td>\n",
              "      <td>0.0</td>\n",
              "    </tr>\n",
              "    <tr>\n",
              "      <th>2</th>\n",
              "      <td>11561</td>\n",
              "      <td>city_21</td>\n",
              "      <td>0.624</td>\n",
              "      <td>NaN</td>\n",
              "      <td>No relevent experience</td>\n",
              "      <td>Full time course</td>\n",
              "      <td>Graduate</td>\n",
              "      <td>STEM</td>\n",
              "      <td>5</td>\n",
              "      <td>NaN</td>\n",
              "      <td>NaN</td>\n",
              "      <td>never</td>\n",
              "      <td>83</td>\n",
              "      <td>0.0</td>\n",
              "    </tr>\n",
              "    <tr>\n",
              "      <th>3</th>\n",
              "      <td>33241</td>\n",
              "      <td>city_115</td>\n",
              "      <td>0.789</td>\n",
              "      <td>NaN</td>\n",
              "      <td>No relevent experience</td>\n",
              "      <td>NaN</td>\n",
              "      <td>Graduate</td>\n",
              "      <td>Business Degree</td>\n",
              "      <td>&lt;1</td>\n",
              "      <td>NaN</td>\n",
              "      <td>Pvt Ltd</td>\n",
              "      <td>never</td>\n",
              "      <td>52</td>\n",
              "      <td>1.0</td>\n",
              "    </tr>\n",
              "    <tr>\n",
              "      <th>4</th>\n",
              "      <td>666</td>\n",
              "      <td>city_162</td>\n",
              "      <td>0.767</td>\n",
              "      <td>Male</td>\n",
              "      <td>Has relevent experience</td>\n",
              "      <td>no_enrollment</td>\n",
              "      <td>Masters</td>\n",
              "      <td>STEM</td>\n",
              "      <td>&gt;20</td>\n",
              "      <td>50-99</td>\n",
              "      <td>Funded Startup</td>\n",
              "      <td>4</td>\n",
              "      <td>8</td>\n",
              "      <td>0.0</td>\n",
              "    </tr>\n",
              "  </tbody>\n",
              "</table>\n",
              "</div>\n",
              "      <button class=\"colab-df-convert\" onclick=\"convertToInteractive('df-0c308363-84c3-4570-bea8-d7d2b5c982a2')\"\n",
              "              title=\"Convert this dataframe to an interactive table.\"\n",
              "              style=\"display:none;\">\n",
              "        \n",
              "  <svg xmlns=\"http://www.w3.org/2000/svg\" height=\"24px\"viewBox=\"0 0 24 24\"\n",
              "       width=\"24px\">\n",
              "    <path d=\"M0 0h24v24H0V0z\" fill=\"none\"/>\n",
              "    <path d=\"M18.56 5.44l.94 2.06.94-2.06 2.06-.94-2.06-.94-.94-2.06-.94 2.06-2.06.94zm-11 1L8.5 8.5l.94-2.06 2.06-.94-2.06-.94L8.5 2.5l-.94 2.06-2.06.94zm10 10l.94 2.06.94-2.06 2.06-.94-2.06-.94-.94-2.06-.94 2.06-2.06.94z\"/><path d=\"M17.41 7.96l-1.37-1.37c-.4-.4-.92-.59-1.43-.59-.52 0-1.04.2-1.43.59L10.3 9.45l-7.72 7.72c-.78.78-.78 2.05 0 2.83L4 21.41c.39.39.9.59 1.41.59.51 0 1.02-.2 1.41-.59l7.78-7.78 2.81-2.81c.8-.78.8-2.07 0-2.86zM5.41 20L4 18.59l7.72-7.72 1.47 1.35L5.41 20z\"/>\n",
              "  </svg>\n",
              "      </button>\n",
              "      \n",
              "  <style>\n",
              "    .colab-df-container {\n",
              "      display:flex;\n",
              "      flex-wrap:wrap;\n",
              "      gap: 12px;\n",
              "    }\n",
              "\n",
              "    .colab-df-convert {\n",
              "      background-color: #E8F0FE;\n",
              "      border: none;\n",
              "      border-radius: 50%;\n",
              "      cursor: pointer;\n",
              "      display: none;\n",
              "      fill: #1967D2;\n",
              "      height: 32px;\n",
              "      padding: 0 0 0 0;\n",
              "      width: 32px;\n",
              "    }\n",
              "\n",
              "    .colab-df-convert:hover {\n",
              "      background-color: #E2EBFA;\n",
              "      box-shadow: 0px 1px 2px rgba(60, 64, 67, 0.3), 0px 1px 3px 1px rgba(60, 64, 67, 0.15);\n",
              "      fill: #174EA6;\n",
              "    }\n",
              "\n",
              "    [theme=dark] .colab-df-convert {\n",
              "      background-color: #3B4455;\n",
              "      fill: #D2E3FC;\n",
              "    }\n",
              "\n",
              "    [theme=dark] .colab-df-convert:hover {\n",
              "      background-color: #434B5C;\n",
              "      box-shadow: 0px 1px 3px 1px rgba(0, 0, 0, 0.15);\n",
              "      filter: drop-shadow(0px 1px 2px rgba(0, 0, 0, 0.3));\n",
              "      fill: #FFFFFF;\n",
              "    }\n",
              "  </style>\n",
              "\n",
              "      <script>\n",
              "        const buttonEl =\n",
              "          document.querySelector('#df-0c308363-84c3-4570-bea8-d7d2b5c982a2 button.colab-df-convert');\n",
              "        buttonEl.style.display =\n",
              "          google.colab.kernel.accessAllowed ? 'block' : 'none';\n",
              "\n",
              "        async function convertToInteractive(key) {\n",
              "          const element = document.querySelector('#df-0c308363-84c3-4570-bea8-d7d2b5c982a2');\n",
              "          const dataTable =\n",
              "            await google.colab.kernel.invokeFunction('convertToInteractive',\n",
              "                                                     [key], {});\n",
              "          if (!dataTable) return;\n",
              "\n",
              "          const docLinkHtml = 'Like what you see? Visit the ' +\n",
              "            '<a target=\"_blank\" href=https://colab.research.google.com/notebooks/data_table.ipynb>data table notebook</a>'\n",
              "            + ' to learn more about interactive tables.';\n",
              "          element.innerHTML = '';\n",
              "          dataTable['output_type'] = 'display_data';\n",
              "          await google.colab.output.renderOutput(dataTable, element);\n",
              "          const docLink = document.createElement('div');\n",
              "          docLink.innerHTML = docLinkHtml;\n",
              "          element.appendChild(docLink);\n",
              "        }\n",
              "      </script>\n",
              "    </div>\n",
              "  </div>\n",
              "  "
            ],
            "text/plain": [
              "   enrollee_id      city  city_development_index gender  \\\n",
              "0         8949  city_103                   0.920   Male   \n",
              "1        29725   city_40                   0.776   Male   \n",
              "2        11561   city_21                   0.624    NaN   \n",
              "3        33241  city_115                   0.789    NaN   \n",
              "4          666  city_162                   0.767   Male   \n",
              "\n",
              "       relevent_experience enrolled_university education_level  \\\n",
              "0  Has relevent experience       no_enrollment        Graduate   \n",
              "1   No relevent experience       no_enrollment        Graduate   \n",
              "2   No relevent experience    Full time course        Graduate   \n",
              "3   No relevent experience                 NaN        Graduate   \n",
              "4  Has relevent experience       no_enrollment         Masters   \n",
              "\n",
              "  major_discipline experience company_size    company_type last_new_job  \\\n",
              "0             STEM        >20          NaN             NaN            1   \n",
              "1             STEM         15        50-99         Pvt Ltd           >4   \n",
              "2             STEM          5          NaN             NaN        never   \n",
              "3  Business Degree         <1          NaN         Pvt Ltd        never   \n",
              "4             STEM        >20        50-99  Funded Startup            4   \n",
              "\n",
              "   training_hours  target  \n",
              "0              36     1.0  \n",
              "1              47     0.0  \n",
              "2              83     0.0  \n",
              "3              52     1.0  \n",
              "4               8     0.0  "
            ]
          },
          "metadata": {},
          "execution_count": 40
        }
      ]
    },
    {
      "cell_type": "code",
      "source": [
        "#Let's Make A Function\n",
        "def train():\n",
        "    df=pd.read_csv('aug_train.csv')\n",
        "    df=df[['enrollee_id','city_development_index','training_hours','target']]\n",
        "    df.dropna()\n",
        "    df['city_development_index']=df['city_development_index'].map(lambda x: \"{:.0f}\".format(x))\n",
        "    df['target']=df['target'].map(lambda x: \"{:.0f}\".format(x))\n",
        "    return df\n",
        "\n",
        "def train_array():\n",
        "    df=train()\n",
        "    return np.float32(df)\n",
        "\n",
        "@vectorize(['float32(float32,float32)'],target='cuda')\n",
        "def add_ufunc(x,y):\n",
        "    return x+y\n",
        "\n",
        "def cuda_operation():\n",
        "    \"\"\"Performs Vectorized Opearations on GPU\"\"\"\n",
        "    \n",
        "    x=train_array()\n",
        "    y=train_array()\n",
        "    \n",
        "    print('Movement Calculations From CPU to GPU!!!')\n",
        "    x_device=cuda.to_device(x)\n",
        "    y_device=cuda.to_device(y)\n",
        "    out_device=cuda.device_array(shape=(x_device.shape[0],x_device.shape[1]),dtype=np.float32)\n",
        "    print(x_device)\n",
        "    print(x_device.shape)\n",
        "    print(x_device.dtype)\n",
        "    \n",
        "    print('Calculating On GPU')\n",
        "    add_ufunc(x_device,y_device,out=out_device)\n",
        "    \n",
        "    out_host=out_device.copy_to_host()\n",
        "    print(f\"Calculations from GPU {out_host}\")\n",
        "cuda_operation()    "
      ],
      "metadata": {
        "colab": {
          "base_uri": "https://localhost:8080/"
        },
        "id": "FXxa6ZzNsQEA",
        "outputId": "8f8e84e4-3462-4234-a35d-85eb1241be09"
      },
      "execution_count": 43,
      "outputs": [
        {
          "output_type": "stream",
          "name": "stdout",
          "text": [
            "Movement Calculations From CPU to GPU!!!\n",
            "<numba.cuda.cudadrv.devicearray.DeviceNDArray object at 0x7f7b46ae3a10>\n",
            "(19158, 4)\n",
            "float32\n",
            "Calculating On GPU\n",
            "Calculations from GPU [[1.7898e+04 2.0000e+00 7.2000e+01 2.0000e+00]\n",
            " [5.9450e+04 2.0000e+00 9.4000e+01 0.0000e+00]\n",
            " [2.3122e+04 2.0000e+00 1.6600e+02 0.0000e+00]\n",
            " ...\n",
            " [4.9152e+04 2.0000e+00 8.8000e+01 0.0000e+00]\n",
            " [1.1512e+04 2.0000e+00 1.9400e+02 0.0000e+00]\n",
            " [4.7668e+04 2.0000e+00 2.5400e+02 0.0000e+00]]\n"
          ]
        }
      ]
    },
    {
      "cell_type": "code",
      "source": [
        ""
      ],
      "metadata": {
        "id": "zT8qNH5qtT3R"
      },
      "execution_count": null,
      "outputs": []
    }
  ]
}